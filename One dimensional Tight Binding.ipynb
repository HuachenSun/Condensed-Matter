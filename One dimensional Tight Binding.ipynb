{
 "cells": [
  {
   "cell_type": "markdown",
   "metadata": {},
   "source": [
    "# Computing Transmission using Tight Binding Model\n",
    "\n",
    "For simplicity, we'll be considering the one dimensional tunnel junction. "
   ]
  },
  {
   "cell_type": "markdown",
   "metadata": {},
   "source": [
    "The energies and hopping parameters for left and right regions are"
   ]
  },
  {
   "cell_type": "code",
   "execution_count": 358,
   "metadata": {},
   "outputs": [],
   "source": [
    "import numpy as np\n",
    "import scipy.constants as const\n",
    "hl = 1\n",
    "tl = 0.01\n",
    "hr = 1\n",
    "tr = 0.01"
   ]
  },
  {
   "cell_type": "markdown",
   "metadata": {},
   "source": [
    "The energies and hopping parameters in the middle region are given by"
   ]
  },
  {
   "cell_type": "code",
   "execution_count": 359,
   "metadata": {},
   "outputs": [],
   "source": [
    "h_middle = np.array([1.02,1.05,1.08,1.06,1.04,1.06,1.07,1.03,1.02])\n",
    "t_middle = np.array(8*[0.01])\n",
    "N = len(h_middle)-2"
   ]
  },
  {
   "cell_type": "markdown",
   "metadata": {},
   "source": [
    "The distances between two neighboring atomic sites in the left and right regions are"
   ]
  },
  {
   "cell_type": "code",
   "execution_count": 360,
   "metadata": {},
   "outputs": [],
   "source": [
    "al = 0.01\n",
    "ar = 0.01"
   ]
  },
  {
   "cell_type": "markdown",
   "metadata": {},
   "source": [
    "and assume we have an electron with an eigenenergy E tunneling through this junction. E needs to be in the range"
   ]
  },
  {
   "cell_type": "code",
   "execution_count": 361,
   "metadata": {},
   "outputs": [
    {
     "name": "stdout",
     "output_type": "stream",
     "text": [
      "0.98 1.02\n"
     ]
    }
   ],
   "source": [
    "E_min = max([hl-2*tl, hr-2*tr])\n",
    "E_max = min([hl+2*tl, hr+2*tr])\n",
    "print(E_min, E_max)"
   ]
  },
  {
   "cell_type": "code",
   "execution_count": 362,
   "metadata": {},
   "outputs": [],
   "source": [
    "E = 0.99"
   ]
  },
  {
   "cell_type": "code",
   "execution_count": 363,
   "metadata": {},
   "outputs": [],
   "source": [
    "kl = (1/al)*np.arccos(-(E-hl)/(2*tl))\n",
    "lambda_l_plus = np.e**(1j*kl*al)\n",
    "lambda_l_minus = np.e**(-1j*kl*al)\n",
    "\n",
    "kr = (1/ar)*np.arccos(-(E-hr)/2*tr)\n",
    "lambda_r_plus = np.e**(1j*kr*ar)"
   ]
  },
  {
   "cell_type": "markdown",
   "metadata": {},
   "source": [
    "We now match the mode of the middle region to those of the left and right region to turn this infinite dimensional problem into a (N+2)-dimensional problem. We will write down the (N+2) by (N+2) Hamiltonian matrix."
   ]
  },
  {
   "cell_type": "code",
   "execution_count": 364,
   "metadata": {},
   "outputs": [],
   "source": [
    "H = np.zeros((N+2, N+2), dtype=complex)\n",
    "self_energy_l = -tl*(1/lambda_l_minus)\n",
    "self_energy_r = -tr*lambda_r_plus\n",
    "H[0,0] = h_middle[0]+self_energy_l\n",
    "H[N+1,N+1] = h_middle[N+1]+self_energy_r\n",
    "for i in range(1,N+1):\n",
    "    H[i,i] = h_middle[i]\n",
    "for i in range(N+1):\n",
    "    H[i,i+1], H[i+1,i] = -t_middle[i], -t_middle[i]"
   ]
  },
  {
   "cell_type": "markdown",
   "metadata": {},
   "source": [
    "We then solve for the stationary state of the electron in the middle region."
   ]
  },
  {
   "cell_type": "code",
   "execution_count": 365,
   "metadata": {},
   "outputs": [],
   "source": [
    "q = np.zeros(N+2, dtype=complex)\n",
    "q[0] = tl*((1/lambda_l_minus)-(1/lambda_l_plus))\n",
    "c = np.linalg.solve(E*np.eye(N+2)-H, q)"
   ]
  },
  {
   "cell_type": "markdown",
   "metadata": {},
   "source": [
    "Now we compute the velocity of the electron in the left and right region and we can then obtain the transmission of this tunnel junction."
   ]
  },
  {
   "cell_type": "code",
   "execution_count": 366,
   "metadata": {
    "scrolled": true
   },
   "outputs": [],
   "source": [
    "vl = -2*al/const.hbar*np.imag(self_energy_l)\n",
    "vr = -2*ar/const.hbar*np.imag(self_energy_r)\n",
    "t = np.sqrt(vr/vl)*c[N+1]"
   ]
  },
  {
   "cell_type": "code",
   "execution_count": 367,
   "metadata": {},
   "outputs": [
    {
     "name": "stdout",
     "output_type": "stream",
     "text": [
      "4.910153979034725e-13\n"
     ]
    }
   ],
   "source": [
    "print(np.abs(t)**2)"
   ]
  }
 ],
 "metadata": {
  "kernelspec": {
   "display_name": "Python 3",
   "language": "python",
   "name": "python3"
  },
  "language_info": {
   "codemirror_mode": {
    "name": "ipython",
    "version": 3
   },
   "file_extension": ".py",
   "mimetype": "text/x-python",
   "name": "python",
   "nbconvert_exporter": "python",
   "pygments_lexer": "ipython3",
   "version": "3.6.5"
  }
 },
 "nbformat": 4,
 "nbformat_minor": 2
}
